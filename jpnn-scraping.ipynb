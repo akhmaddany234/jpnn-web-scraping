{
 "cells": [
  {
   "cell_type": "code",
   "execution_count": 1,
   "metadata": {},
   "outputs": [],
   "source": [
    "import requests\n",
    "from bs4 import BeautifulSoup\n",
    "import pandas as pd\n",
    "\n",
    "# Membuat daftar URL untuk 3 halaman\n",
    "base_url = 'https://www.jpnn.com/daerah'\n",
    "urls = [f'{base_url}?page={i}' for i in range(1, 4)]  # Menghasilkan URL halaman 1, 2, dan 3\n"
   ]
  },
  {
   "cell_type": "code",
   "execution_count": 2,
   "metadata": {},
   "outputs": [],
   "source": [
    "# Inisialisasi list untuk menyimpan data berita\n",
    "news_data = []\n"
   ]
  },
  {
   "cell_type": "code",
   "execution_count": 3,
   "metadata": {},
   "outputs": [
    {
     "name": "stdout",
     "output_type": "stream",
     "text": [
      "Scraping data dari: https://www.jpnn.com/daerah?page=1\n",
      "Scraping data dari: https://www.jpnn.com/daerah?page=2\n",
      "Scraping data dari: https://www.jpnn.com/daerah?page=3\n"
     ]
    }
   ],
   "source": [
    "# Melakukan scraping untuk setiap URL\n",
    "for url in urls:\n",
    "    print(f'Scraping data dari: {url}')  # Menampilkan URL yang sedang diproses\n",
    "    response = requests.get(url)  # Mengirim permintaan GET\n",
    "    soup = BeautifulSoup(response.content, 'html.parser')  # Mengurai konten HTML\n",
    "\n",
    "    # Mencari semua artikel berita\n",
    "    articles = soup.find_all('article')\n",
    "\n",
    "    # Mengambil informasi dari setiap artikel\n",
    "    for news in articles:\n",
    "        # Judul berita\n",
    "        title_tag = news.find('div', class_='content-description').find('div', class_='content').find('h2')\n",
    "        title = title_tag.get_text(strip=True) if title_tag else 'N/A'\n",
    "        \n",
    "        # Waktu berita\n",
    "        time_tag = news.find('div', class_='content-description').find('div', class_='content').find('h6')\n",
    "        time = time_tag.get_text(strip=True) if time_tag else 'N/A'\n",
    "        \n",
    "        # Deskripsi berita\n",
    "        description_tag = news.find('div', class_='content-description')\n",
    "        description = description_tag.get_text(strip=True) if description_tag else 'N/A'\n",
    "        \n",
    "        # Link gambar berita\n",
    "        image_tag = news.find('div', class_='content-picture').find('img')\n",
    "        image_link = image_tag['src'] if image_tag else 'N/A'\n",
    "        \n",
    "        # Menyimpan informasi berita dalam format dictionary\n",
    "        news_data.append({\n",
    "            'Nama Berita': title,\n",
    "            'Waktu Berita': time,\n",
    "            'Deskripsi Berita': description,\n",
    "            'Link Gambar': image_link\n",
    "        })\n"
   ]
  },
  {
   "cell_type": "code",
   "execution_count": 4,
   "metadata": {},
   "outputs": [
    {
     "name": "stdout",
     "output_type": "stream",
     "text": [
      "Hasil scraping:\n",
      "{'Nama Berita': 'Ketua Bawaslu Surabaya Sangkal Lakukan Penganiayaan Kepada Wanita', 'Waktu Berita': 'Jatim TerkiniSabtu, 28 September 2024 – 10:35 WIB', 'Deskripsi Berita': 'Jatim TerkiniSabtu, 28 September 2024 – 10:35 WIBKetua Bawaslu Surabaya Sangkal Lakukan Penganiayaan Kepada WanitaPenjelasan Ketua Bawaslu Novli saat dilaporkan ke Polrestabes karena kasus dugaan penganiayaan kepada perempuan', 'Link Gambar': 'https://image.jpnn.com/resize/225x150-80/jatim/news/watermark/2024/09/28/ketua-badan-pengawas-pemilihan-umum-bawaslu-surabaya-novli-a-z8wx.jpg'}\n",
      "{'Nama Berita': 'PT PP Optimistis Selesaikan Proyek Bandara Nusantara IKN Sesuai Target di Akhir 2024', 'Waktu Berita': 'Kaltim TerkiniSabtu, 28 September 2024 – 10:09 WIB', 'Deskripsi Berita': 'Kaltim TerkiniSabtu, 28 September 2024 – 10:09 WIBPT PP Optimistis Selesaikan Proyek Bandara Nusantara IKN Sesuai Target di Akhir 2024Direktur Operasi Bidang Infrastruktur PT PP Yul Ari Pramuraharjo optimistis pihaknya bisa menyelesaikan proyek Bandara Nusantara IKN sesuai…', 'Link Gambar': 'https://image.jpnn.com/resize/225x150-80/kaltim/news/normal/2024/09/28/pesawat-kepresidenan-rj-85-yang-membawa-presiden-joko-widodo-vd6g.jpg'}\n",
      "{'Nama Berita': 'Cuaca Malang Hari ini, Seharian Bakal Cerah Hingga Berkabut', 'Waktu Berita': 'Jatim TerkiniSabtu, 28 September 2024 – 10:05 WIB', 'Deskripsi Berita': 'Jatim TerkiniSabtu, 28 September 2024 – 10:05 WIBCuaca Malang Hari ini, Seharian Bakal Cerah Hingga BerkabutBerikut ramalan cuaca Malang hari ini. Cerah hingga berkabut di seluruh kawasan.', 'Link Gambar': 'https://image.jpnn.com/resize/225x150-80/jatim/news/normal/2024/02/07/bmkg-juanda-menyampaikan-ramalan-cuaca-malang-hari-ini-rabu-kwsy.jpg'}\n",
      "{'Nama Berita': 'Jadwal Bioskop di Bali Sabtu (28/9): Denpasar Cineplex – ICON XXI, Yuk Gas!', 'Waktu Berita': 'DestinasiSabtu, 28 September 2024 – 09:53 WIB', 'Deskripsi Berita': 'DestinasiSabtu, 28 September 2024 – 09:53 WIBJadwal Bioskop di Bali Sabtu (28/9): Denpasar Cineplex – ICON XXI, Yuk Gas!Jadwal bioskop yang tayang di Denpasar Bali, Sabtu (28/9): Film Bagman, Hellboy: The Crooked Man, Laura, Home Sweet…', 'Link Gambar': 'https://image.jpnn.com/resize/225x150-80/bali/news/normal/2024/06/08/ilustrasi-bioskop-di-kota-denpasar-foto-ali-mustofajpnncom-z-5vdz.jpg'}\n",
      "{'Nama Berita': 'Ditarik Ajudan Nana Sudjana, Wartawan Terjengkang, Sekda Jateng Angkat Bicara', 'Waktu Berita': 'Jateng TerkiniSabtu, 28 September 2024 – 09:40 WIB', 'Deskripsi Berita': 'Jateng TerkiniSabtu, 28 September 2024 – 09:40 WIBDitarik Ajudan Nana Sudjana, Wartawan Terjengkang, Sekda Jateng Angkat BicaraSekretaris Daerah (Sekda) Jawa Tengah Sumarno memberikan klarifikasi terkait insiden yang melibatkan ajudan Penjabat (Pj) Gubernur Nana Sudjana.', 'Link Gambar': 'https://image.jpnn.com/resize/225x150-80/jatim/news/normal/2023/12/15/sekretaris-daerah-sekda-provinsi-jawa-tengah-sumarno-foto-on-tpzm.jpg'}\n",
      "{'Nama Berita': 'Telkom University Surabaya Bangun Incinerator untuk Kelola Sampah di Desa Wedoro', 'Waktu Berita': 'Jatim TerkiniSabtu, 28 September 2024 – 09:34 WIB', 'Deskripsi Berita': 'Jatim TerkiniSabtu, 28 September 2024 – 09:34 WIBTelkom University Surabaya Bangun Incinerator untuk Kelola Sampah di Desa WedoroDosen dan mahasiswa Telkom University Surabaya memperkenalkan incinerator sederhana untuk pengelolaan sampah kepada warga di Desa Wedoro, Sidoarjo.', 'Link Gambar': 'https://image.jpnn.com/resize/225x150-80/jatim/news/normal/2024/09/28/dosen-dan-mahasiswa-telkom-university-surabaya-saat-memperke-sg2z.jpg'}\n",
      "{'Nama Berita': 'Menjelang Laga Melawan Madura, Bojan Hodak Sampaikan Kabar Buruk Soal Kondisi Pemain Persib', 'Waktu Berita': 'OlahragaSabtu, 28 September 2024 – 09:30 WIB', 'Deskripsi Berita': 'OlahragaSabtu, 28 September 2024 – 09:30 WIBMenjelang Laga Melawan Madura, Bojan Hodak Sampaikan Kabar Buruk Soal Kondisi Pemain PersibBegini kondisi pemain Persib menjelang pertandingan melawan Madura United besok di Stadion Bangkalan.', 'Link Gambar': 'https://image.jpnn.com/resize/225x150-80/jatim/news/normal/2024/09/27/pelatih-persib-bojan-hodak-kiri-dan-pemain-ciro-alves-dalam-pn14.jpg'}\n",
      "{'Nama Berita': 'Bawaslu Bali: ASN Istri atau Suami Peserta Pilkada 2024 Wajib Cuti, Tegas!', 'Waktu Berita': 'PolitikSabtu, 28 September 2024 – 09:14 WIB', 'Deskripsi Berita': 'PolitikSabtu, 28 September 2024 – 09:14 WIBBawaslu Bali: ASN Istri atau Suami Peserta Pilkada 2024 Wajib Cuti, Tegas!Bawaslu Bali mengingatkan istri atau suami peserta Pilkada 2024 baik di tingkat provinsi, kabupaten/kota berstatus ASN wajib mengajukan…', 'Link Gambar': 'https://image.jpnn.com/resize/225x150-80/arsip/watermark/2020/10/13/pilkada_jpnn_01.jpeg'}\n",
      "{'Nama Berita': 'Cuaca Surabaya Hari ini, Diramalkan Cerah & Cerah Berawan Selama Seharian', 'Waktu Berita': 'Jatim TerkiniSabtu, 28 September 2024 – 09:04 WIB', 'Deskripsi Berita': 'Jatim TerkiniSabtu, 28 September 2024 – 09:04 WIBCuaca Surabaya Hari ini, Diramalkan Cerah & Cerah Berawan Selama SeharianBerikut ramalan cuaca Surabaya hari ini. cerah dan cerah berawan di seluruh kawasan.', 'Link Gambar': 'https://image.jpnn.com/resize/225x150-80/jatim/news/normal/2024/04/01/bmkg-juanda-menyampaikan-ramalan-cuaca-di-surabaya-hari-ini-xccl.jpg'}\n",
      "{'Nama Berita': 'Jadwal Bioskop Balikpapan Hari Ini, Film Dokumenter Jungkook BTS Cuma Diputar di Sini', 'Waktu Berita': 'Kaltim TerkiniSabtu, 28 September 2024 – 09:00 WIB', 'Deskripsi Berita': 'Kaltim TerkiniSabtu, 28 September 2024 – 09:00 WIBJadwal Bioskop Balikpapan Hari Ini, Film Dokumenter Jungkook BTS Cuma Diputar di SiniIni jadwal bioskop Balikpapan hari ini 28 September 2024, Film Jungkook: I Am Still hanya diputar di sini', 'Link Gambar': 'https://image.jpnn.com/resize/225x150-80/kaltim/news/normal/2024/09/28/penyanyi-jungkook-dari-grup-bts-yang-diunggah-di-akun-instag-zkol.jpg'}\n",
      "{'Nama Berita': 'Persib Tak Bawa Sang Kapten Saat Laga Tandang ke Madura', 'Waktu Berita': 'OlahragaSabtu, 28 September 2024 – 08:45 WIB', 'Deskripsi Berita': 'OlahragaSabtu, 28 September 2024 – 08:45 WIBPersib Tak Bawa Sang Kapten Saat Laga Tandang ke MaduraPelatih Persib akan merotasi pemain pada laga away melawan Madura United FC di Stadion Bangkalan.', 'Link Gambar': 'https://image.jpnn.com/resize/225x150-80/jatim/news/watermark/2024/09/21/pelatih-persib-bojan-hodak-foto-nur-fidhiah-shabrinajpnncom-6dum.jpg'}\n",
      "{'Nama Berita': 'Siswa MTs di Blitar Tewas Dilempar Kayu Barpaku Gurunya Akibat Tak Segera Salat Dhuha', 'Waktu Berita': 'Jatim TerkiniSabtu, 28 September 2024 – 08:33 WIB', 'Deskripsi Berita': 'Jatim TerkiniSabtu, 28 September 2024 – 08:33 WIBSiswa MTs di Blitar Tewas Dilempar Kayu Barpaku Gurunya Akibat Tak Segera Salat DhuhaDetik-detik siswa MTS di Blitar tewas dilempar kayu berpaku karena tak segera salat dhuha', 'Link Gambar': 'https://image.jpnn.com/resize/225x150-80/arsip/watermark/2021/01/18/polisi-olah-tkp-kasus-penemuan-mayat-ilustrasi-foto-ricard-19.jpg'}\n",
      "{'Nama Berita': 'Cuaca Jawa Timur 28 September 2024, Pagi-Malam Cerah Hingga Berkabut', 'Waktu Berita': 'Jatim TerkiniSabtu, 28 September 2024 – 08:03 WIB', 'Deskripsi Berita': 'Jatim TerkiniSabtu, 28 September 2024 – 08:03 WIBCuaca Jawa Timur 28 September 2024, Pagi-Malam Cerah Hingga BerkabutBerikut ramalan cuaca hari ini khusus daerah-daerah di Jawa Timur beserta imbauan penting untuk masyarakat.', 'Link Gambar': 'https://image.jpnn.com/resize/225x150-80/jatim/news/normal/2022/07/18/bmkg-juanda-mengeluarkan-ramalan-cuaca-surabaya-hari-ini-sen-aqb2.jpg'}\n",
      "{'Nama Berita': 'Rahmad Darmawan Siap Bertanggung Jawab, Fokus Laga Kontra PSS Sleman', 'Waktu Berita': 'SportSabtu, 28 September 2024 – 07:50 WIB', 'Deskripsi Berita': 'SportSabtu, 28 September 2024 – 07:50 WIBRahmad Darmawan Siap Bertanggung Jawab, Fokus Laga Kontra PSS SlemanMenurut Rahmad Darmawan, laga kemarin berjalan tidak mudah karena pemain Barito Putera terkendala recovery sebelum menghadapi Bali United.', 'Link Gambar': 'https://image.jpnn.com/resize/225x150-80/bali/news/normal/2024/09/28/pelatih-barito-putera-rahmad-darmawan-siap-bertanggung-jawab-5ctm.jpg'}\n",
      "{'Nama Berita': '106 Akomodasi Wisata di Bali Tersertifikasi Siaga Bencana, Fokus Hotel Berbintang', 'Waktu Berita': 'DestinasiSabtu, 28 September 2024 – 06:30 WIB', 'Deskripsi Berita': 'DestinasiSabtu, 28 September 2024 – 06:30 WIB106 Akomodasi Wisata di Bali Tersertifikasi Siaga Bencana, Fokus Hotel BerbintangDari 498 hotel berbintang di Bali, ada 106 akomodasi pariwisata yang telah tersertifikasi, tujuh di antaranya baru saja…', 'Link Gambar': 'https://image.jpnn.com/resize/225x150-80/bali/news/normal/2024/07/22/sejumlah-wisatawan-menikmati-suasana-liburan-di-salah-satu-k-fiyu.jpg'}\n",
      "{'Nama Berita': 'Piodalan Pura di Bali Sabtu 28 September 2024, Cek Jadwal & Lokasinya!', 'Waktu Berita': 'Bali TerkiniSabtu, 28 September 2024 – 06:05 WIB', 'Deskripsi Berita': 'Bali TerkiniSabtu, 28 September 2024 – 06:05 WIBPiodalan Pura di Bali Sabtu 28 September 2024, Cek Jadwal & Lokasinya!Jadwal upacara piodalan Pura di Bali saat Saniscara Pon Dunggulan, Sabtu 28 September 2024: Hari ini ada piodalan…', 'Link Gambar': 'https://image.jpnn.com/resize/225x150-80/bali/news/normal/2022/10/26/umat-hindu-bersembahyang-saat-hari-pagerwesi-di-pura-jagatna-zftf.jpg'}\n",
      "{'Nama Berita': 'Kalender Bali Sabtu 28 September 2024: Baik untuk Mengadakan Pertemuan & Buka Lahan', 'Waktu Berita': 'Bali TerkiniSabtu, 28 September 2024 – 05:57 WIB', 'Deskripsi Berita': 'Bali TerkiniSabtu, 28 September 2024 – 05:57 WIBKalender Bali Sabtu 28 September 2024: Baik untuk Mengadakan Pertemuan & Buka LahanKalender Bali Sabtu 28 Agustus 2024 bertepatan dengan Saniscara Pon Dunggulan: Baik untuk mengadakan pertemuan & membuka lahan', 'Link Gambar': 'https://image.jpnn.com/resize/225x150-80/bali/news/watermark/2024/09/06/lustrasi-kalender-bali-jumat-6-agustus-2024-bertepatan-denga-eadx.jpg'}\n",
      "{'Nama Berita': 'Cek Jadwal & Harga Tiket Bus AKAP dari Bali ke Pulau Jawa Sabtu 28 September 2024', 'Waktu Berita': 'DestinasiSabtu, 28 September 2024 – 05:39 WIB', 'Deskripsi Berita': 'DestinasiSabtu, 28 September 2024 – 05:39 WIBCek Jadwal & Harga Tiket Bus AKAP dari Bali ke Pulau Jawa Sabtu 28 September 2024Jadwal & tiket bus AKAP Terminal Mengwi Bali ke sejumlah terminal di Jakarta, Yogyakarta, Semarang, Surabaya, Madiun, Kediri,…', 'Link Gambar': 'https://image.jpnn.com/resize/225x150-80/bali/news/normal/2022/09/18/ilustrasi-bus-restu-mulya-yang-melayani-rute-bali-ke-sejumla-6qpa.jpg'}\n",
      "{'Nama Berita': 'Selama Januari-September 2024, Telah Terjadi 83 Kasus Tawuran Antargangster di Semarang', 'Waktu Berita': 'KriminalSabtu, 28 September 2024 – 04:30 WIB', 'Deskripsi Berita': 'KriminalSabtu, 28 September 2024 – 04:30 WIBSelama Januari-September 2024, Telah Terjadi 83 Kasus Tawuran Antargangster di SemarangSebanyak 83 kasus tawuran antargangster di Kota Semarang, Jawa Tengah terjadi dalam kurun waktu Januari hingga September 2024.', 'Link Gambar': 'https://image.jpnn.com/resize/225x150-80/jatim/news/normal/2024/09/28/sejumlah-anggota-gangster-pelaku-tawuran-di-semarang-dihadir-1pa4.jpg'}\n",
      "{'Nama Berita': 'Jalankan Amanah Prabowo, DPC & Anggota DPRD Gerindra se-Jateng Solid Mendukung Luthfi-Yasin', 'Waktu Berita': 'PolitikSabtu, 28 September 2024 – 03:45 WIB', 'Deskripsi Berita': 'PolitikSabtu, 28 September 2024 – 03:45 WIBJalankan Amanah Prabowo, DPC & Anggota DPRD Gerindra se-Jateng Solid Mendukung Luthfi-YasinDPC di 35 kabupaten/kota dan anggota DPRD dari Fraksi Partai Gerindra se-Jawa Tengah menyatakan solid untuk mendukung penuh…', 'Link Gambar': 'https://image.jpnn.com/resize/225x150-80/jatim/news/normal/2024/09/28/ketua-sekretaris-bendahara-ksb-dpc-di-35-kabupatenkota-emsux-qetg.jpg'}\n",
      "{'Nama Berita': 'Kasus Perundungan PPDS Undip, Apa Kabar Terbarunya?', 'Waktu Berita': 'KriminalSabtu, 28 September 2024 – 02:45 WIB', 'Deskripsi Berita': 'KriminalSabtu, 28 September 2024 – 02:45 WIBKasus Perundungan PPDS Undip, Apa Kabar Terbarunya?Polisi masih terus melakukan penyelidikan terhadap dugaan kasus perundungan di lingkungan Program Pendidikan Doktor Spesialis (PPDS) Undip Semarang.', 'Link Gambar': 'https://image.jpnn.com/resize/225x150-80/jatim/news/watermark/2024/09/05/direskrimum-polda-jateng-kombes-pol-johanson-ronald-simamora-olec.jpg'}\n",
      "{'Nama Berita': 'Geridra se-Jateng Bersama Cakada Menguatkan Sinergi Politik, Siap Menangkan Luthfi-Yasin', 'Waktu Berita': 'PolitikSabtu, 28 September 2024 – 02:00 WIB', 'Deskripsi Berita': 'PolitikSabtu, 28 September 2024 – 02:00 WIBGeridra se-Jateng Bersama Cakada Menguatkan Sinergi Politik, Siap Menangkan Luthfi-Yasinartai Gerindra se-Jawa Tengah bersama calon kepala daerah yang diusung siap memenangkan Cagub-Cawagub Jawa Tengah nomor urut 2.', 'Link Gambar': 'https://image.jpnn.com/resize/225x150-80/jatim/news/normal/2024/09/28/partai-gerindra-se-jawa-tengah-bersama-calon-kepala-daerah-c-roqb.jpg'}\n",
      "{'Nama Berita': 'Mantan Kades se-Jawa Tengah Dukung Andika-Hendi', 'Waktu Berita': 'PolitikSabtu, 28 September 2024 – 01:15 WIB', 'Deskripsi Berita': 'PolitikSabtu, 28 September 2024 – 01:15 WIBMantan Kades se-Jawa Tengah Dukung Andika-HendiMantan kades se-Jawa Tengah mendeklarasikan dukungannya untuk Cagub-Cawagub nomor urut 1 Andika Perkasa-Hendrar Prihadi.', 'Link Gambar': 'https://image.jpnn.com/resize/225x150-80/jatim/news/watermark/2024/09/28/kumpulan-mantan-kepala-desa-se-jawa-tengah-mendeklarasikan-d-v52i.jpg'}\n",
      "{'Nama Berita': \"Elektabilitas Luthfi-Taj Yasin Moncer, Kandang Banteng Terancam 'Bubrah'?\", 'Waktu Berita': 'PolitikSabtu, 28 September 2024 – 00:43 WIB', 'Deskripsi Berita': \"PolitikSabtu, 28 September 2024 – 00:43 WIBElektabilitas Luthfi-Taj Yasin Moncer, Kandang Banteng Terancam 'Bubrah'?Membaca Peta Politik Pilgub Jateng: Luthfi-Yasin Ancam Dominasi PDIP di Kandang Banteng.\", 'Link Gambar': 'https://image.jpnn.com/resize/225x150-80/jatim/news/watermark/2024/09/28/fgd-forum-media-online-kota-semarang-fomos-dengan-tema-memba-ivo4.jpg'}\n",
      "{'Nama Berita': '8 Personel Polres Serang Jadi Walpri Cabup-Cawabup, Punya Keahlian Khusus', 'Waktu Berita': 'PolitikSabtu, 28 September 2024 – 00:37 WIB', 'Deskripsi Berita': 'PolitikSabtu, 28 September 2024 – 00:37 WIB8 Personel Polres Serang Jadi Walpri Cabup-Cawabup, Punya Keahlian KhususPolres Serang terjunkan personel yang memiliki keahlian khusus untuk menjadi pengawal pribadi (walpri) calon kepala daerah.', 'Link Gambar': 'https://image.jpnn.com/resize/225x150-80/banten/news/watermark/2024/09/28/polres-serang-menerjunkan-delapan-personel-untuk-bertugas-me-sqgx.jpg'}\n",
      "{'Nama Berita': 'Ace Hasan Minta Kader Golkar Menangkan Sahrul - Gun Gun di Pilkada 2024', 'Waktu Berita': 'PolitikJumat, 27 September 2024 – 22:40 WIB', 'Deskripsi Berita': 'PolitikJumat, 27 September 2024 – 22:40 WIBAce Hasan Minta Kader Golkar Menangkan Sahrul - Gun Gun di Pilkada 2024Begini instruksi Ace Hasan terhadap kadernya untuk memenangkan Sahrul Gunawan - Gun Gun Gunawan di Pilkada Kabupaten Bandung.', 'Link Gambar': 'https://image.jpnn.com/resize/225x150-80/jatim/news/normal/2024/09/27/ketua-dpd-partai-golkar-tubagus-ace-hasan-syadzily-saat-memi-lqkc.jpg'}\n",
      "{'Nama Berita': 'Platform BigBox, Perkuat Peran Membangun Ekosistem Digital di Indonesia', 'Waktu Berita': 'Jabar TerkiniJumat, 27 September 2024 – 22:35 WIB', 'Deskripsi Berita': 'Jabar TerkiniJumat, 27 September 2024 – 22:35 WIBPlatform BigBox, Perkuat Peran Membangun Ekosistem Digital di IndonesiaPT Telkom Indonesia menghadirian inovasi terbarunya di ajang Fordigi Summit 2024 yakni platform BigBox.', 'Link Gambar': 'https://image.jpnn.com/resize/225x150-80/jatim/news/normal/2024/09/27/direktur-bisnis-digital-di-telkom-indonesia-m-fajrin-rasyid-hlk9.jpg'}\n",
      "{'Nama Berita': 'Respons Berkelas Everton Setelah Pecah Telur dan Cetak Brace ke Gawang Barito', 'Waktu Berita': 'SportJumat, 27 September 2024 – 22:26 WIB', 'Deskripsi Berita': 'SportJumat, 27 September 2024 – 22:26 WIBRespons Berkelas Everton Setelah Pecah Telur dan Cetak Brace ke Gawang BaritoMenjadi bulan-bulanan suporter lantaran mandul dalam enam laga terakhir, penyerang asal Brasil ini mencetak brace sekaligus ke gawang…', 'Link Gambar': 'https://image.jpnn.com/resize/225x150-80/bali/news/normal/2024/09/27/striker-bali-united-everton-nascimento-berselebrasi-seusai-m-cwci.jpg'}\n",
      "{'Nama Berita': 'Perolehan PBB P2 Kota Depok Hingga Triwulan III Capai 84 Persen', 'Waktu Berita': 'Jabar TerkiniJumat, 27 September 2024 – 20:30 WIB', 'Deskripsi Berita': 'Jabar TerkiniJumat, 27 September 2024 – 20:30 WIBPerolehan PBB P2 Kota Depok Hingga Triwulan III Capai 84 PersenBKD Kota Depok menyebutkan capaian target Pajak Bumi dan Bangunan Pedesaan dan Perkotaan (PBB P2) hingga triwulan III…', 'Link Gambar': 'https://image.jpnn.com/resize/225x150-80/jatim/news/normal/2022/07/20/potret-kota-depok-di-jalan-boulevard-grand-depok-city-gdc-hr-tmrq.jpg'}\n",
      "{'Nama Berita': 'Mandiri Taspen Gandeng PT RNM Beri Layanan VIP Nasabah di Jatim', 'Waktu Berita': 'Jatim TerkiniJumat, 27 September 2024 – 20:26 WIB', 'Deskripsi Berita': 'Jatim TerkiniJumat, 27 September 2024 – 20:26 WIBMandiri Taspen Gandeng PT RNM Beri Layanan VIP Nasabah di JatimBank Mandiri Taspen menggandeng IHC PT Rolas Nusantara Medika untuk memberikan layanan VIP nasabah.', 'Link Gambar': 'https://image.jpnn.com/resize/225x150-80/jatim/news/normal/2024/09/27/direktur-bisnis-bank-mandiri-taspen-maswar-purnama-berjabat-vkcr.jpg'}\n",
      "{'Nama Berita': 'Bawaslu Panggil Rektor Unmul soal Dugaan Keberpihakan ke Salah Satu Paslon', 'Waktu Berita': 'PolitikJumat, 27 September 2024 – 20:04 WIB', 'Deskripsi Berita': 'PolitikJumat, 27 September 2024 – 20:04 WIBBawaslu Panggil Rektor Unmul soal Dugaan Keberpihakan ke Salah Satu PaslonBawaslu memanggil Rektor Unmul Prof Abdunnur untuk dimintai keterangan terkait dugaan keberpihakannya kepada salah satu paslon di Pilgub…', 'Link Gambar': 'https://image.jpnn.com/resize/225x150-80/kaltim/news/normal/2024/09/27/rektor-universitas-mulawarman-prof-saat-diwawancarai-awak-me-a6wq.jpg'}\n",
      "{'Nama Berita': 'Statistik Bali United vs Barito Putera: Sesumbar Coach Teco Terbukti', 'Waktu Berita': 'SportJumat, 27 September 2024 – 18:47 WIB', 'Deskripsi Berita': 'SportJumat, 27 September 2024 – 18:47 WIBStatistik Bali United vs Barito Putera: Sesumbar Coach Teco TerbuktiSecara statistik, kedua kesebelasan Bali United vs Barito Putera sebenarnya imbang, sesumbar Coach Teco terbukti di laga kandang', 'Link Gambar': 'https://image.jpnn.com/resize/225x150-80/bali/news/normal/2024/09/27/stiker-bali-united-everton-nascimento-terbang-ke-udara-menan-zvky.jpg'}\n",
      "{'Nama Berita': 'Mendatangi Ulama Cianjur, Ahmad Syaikhu Didoakan Memenangkan Pilgub Jabar 2024', 'Waktu Berita': 'PolitikJumat, 27 September 2024 – 18:45 WIB', 'Deskripsi Berita': 'PolitikJumat, 27 September 2024 – 18:45 WIBMendatangi Ulama Cianjur, Ahmad Syaikhu Didoakan Memenangkan Pilgub Jabar 2024Calon Gubernur Jawa Barat, Ahmad Syaikhu mendapatkan doa dan dukungan dari tokoh ulama di Kabupaten Cianjur KH Abdul…', 'Link Gambar': 'https://image.jpnn.com/resize/225x150-80/jatim/news/normal/2024/09/27/calon-gubernur-jawa-barat-ahmad-syaikhu-mendapatkan-doa-dan-bxt3.jpg'}\n",
      "{'Nama Berita': 'Said Abdullah Sebut Rencana Pertemuan Mega dan Prabowo Bukan Soal Bagi-bagi Kursi', 'Waktu Berita': 'PolitikJumat, 27 September 2024 – 18:30 WIB', 'Deskripsi Berita': 'PolitikJumat, 27 September 2024 – 18:30 WIBSaid Abdullah Sebut Rencana Pertemuan Mega dan Prabowo Bukan Soal Bagi-bagi KursiSaid Abdullah bantah pertemuan Prabowo dengan Mega untuk bagi-bagi kursi', 'Link Gambar': 'https://image.jpnn.com/resize/225x150-80/jatim/news/watermark/2024/09/26/ketua-dpd-pdi-perjuangan-jawa-timur-said-abdullah-membantah-tjlo.jpg'}\n",
      "{'Nama Berita': 'Perempuan di Bojonggede Jadi Bulan-bulanan Penganiayaan Tetangganya, Korban Disayat Menggunakan Cutter', 'Waktu Berita': 'KriminalJumat, 27 September 2024 – 18:30 WIB', 'Deskripsi Berita': 'KriminalJumat, 27 September 2024 – 18:30 WIBPerempuan di Bojonggede Jadi Bulan-bulanan Penganiayaan Tetangganya, Korban Disayat Menggunakan CutterSeorang perempuan di Bojonggede menjadi korban penganiayaan oleh tetangganya sendiri, korban disayat menggunakan cutter', 'Link Gambar': 'https://image.jpnn.com/resize/225x150-80/arsip/watermark/2020/01/10/ilustrasi-penganiayaan-ilustrator-ardissa-barackjpnncom-45.jpg'}\n",
      "{'Nama Berita': 'Bali United vs Barito Putera: Everton Pecah Telur, Cetak Brace ke Gawang Satria Tama', 'Waktu Berita': 'SportJumat, 27 September 2024 – 18:23 WIB', 'Deskripsi Berita': 'SportJumat, 27 September 2024 – 18:23 WIBBali United vs Barito Putera: Everton Pecah Telur, Cetak Brace ke Gawang Satria TamaStriker Bali United Everton Nascimento akhirnya pecah telur setelah mencetak brace ke gawang Barito Putera yang dikawal Satria…', 'Link Gambar': 'https://image.jpnn.com/resize/225x150-80/bali/news/normal/2024/09/27/penyerang-bali-united-everton-nascimento-akhirnya-pecah-telu-yqcr.jpg'}\n",
      "{'Nama Berita': 'Baba Rafi Raih Penghargaan Atas Pencapaian Iklim Ekonomi Sehat', 'Waktu Berita': 'Jatim TerkiniJumat, 27 September 2024 – 18:00 WIB', 'Deskripsi Berita': 'Jatim TerkiniJumat, 27 September 2024 – 18:00 WIBBaba Rafi Raih Penghargaan Atas Pencapaian Iklim Ekonomi SehatEksis 21 tahun, kebab Turki Baba Rafi Enterprise dapat penghargaan bergengsi dari media nasional', 'Link Gambar': 'https://image.jpnn.com/resize/225x150-80/jatim/news/watermark/2024/09/26/baba-rafi-enterprise-milik-hendy-setiono-dapat-penghargaan-s-l9ia.jpg'}\n",
      "{'Nama Berita': 'The Meru Promosi Gaya Hidup Sehat, Gelar Wellness Activity di Pantai Sanur', 'Waktu Berita': 'DestinasiJumat, 27 September 2024 – 17:33 WIB', 'Deskripsi Berita': 'DestinasiJumat, 27 September 2024 – 17:33 WIBThe Meru Promosi Gaya Hidup Sehat, Gelar Wellness Activity di Pantai SanurThe Meru Sanur menawarkan pengalaman kepada pengunjung dengan menggelar Wellness Activity berkolaborasi dengan World Wellness Weekend di Pantai…', 'Link Gambar': 'https://image.jpnn.com/resize/225x150-80/bali/news/normal/2024/09/27/the-meru-sanur-menawarkan-pengalaman-kepada-pengunjung-denga-m7xx.jpg'}\n",
      "{'Nama Berita': 'Risma-Gus Hans Usung Slogan Resik Resik Jatim, Begini Maknanya', 'Waktu Berita': 'PolitikJumat, 27 September 2024 – 17:31 WIB', 'Deskripsi Berita': 'PolitikJumat, 27 September 2024 – 17:31 WIBRisma-Gus Hans Usung Slogan Resik Resik Jatim, Begini MaknanyaCagub Jatim nomor urut 3 Risma jelaskan slogan Resik Resik Jawa Timur yang diusungnya', 'Link Gambar': 'https://image.jpnn.com/resize/225x150-80/jatim/news/watermark/2024/09/26/pasangan-calon-gubernur-dan-wakil-gubernur-jawa-timur-nomor-buw1.jpg'}\n",
      "{'Nama Berita': 'AJI Semarang Mengecam Tindakan Represif Pengawal Nana Sudjana Terhadap Wartawan', 'Waktu Berita': 'Jateng TerkiniJumat, 27 September 2024 – 17:31 WIB', 'Deskripsi Berita': 'Jateng TerkiniJumat, 27 September 2024 – 17:31 WIBAJI Semarang Mengecam Tindakan Represif Pengawal Nana Sudjana Terhadap WartawanSeorang ajudan Pj Gubernur Jawa Tengah Nana Sudjana melakukan tindakan represif terhadap wartawan JPNN Wisnu Kusuma (30) pada…', 'Link Gambar': 'https://image.jpnn.com/resize/225x150-80/ilustrasi/normal/2022/08/15/wartawan-foto-ricardojpnncom-sqno2-sg30.jpg'}\n",
      "{'Nama Berita': 'Mayjen TNI Zamroni Sentil Sosok Joni saat Membuka Pendidikan Bintara, Patriotik', 'Waktu Berita': 'Bali TerkiniJumat, 27 September 2024 – 17:05 WIB', 'Deskripsi Berita': 'Bali TerkiniJumat, 27 September 2024 – 17:05 WIBMayjen TNI Zamroni Sentil Sosok Joni saat Membuka Pendidikan Bintara, PatriotikPangdam IX/Udayana Mayjen TNI Muhammad Zamroni seusai upacara pembukaan program studi Dikmaba TNI AD menyentil sosok Joni kepada…', 'Link Gambar': 'https://image.jpnn.com/resize/225x150-80/bali/news/normal/2024/09/27/pangdam-ixudayana-mayjen-tni-muhammad-zamroni-membuka-membuk-eiei.jpg'}\n",
      "{'Nama Berita': 'Telkom University Sosialisasikan Modul Pengelolaan Sampah Efektif ke Warga Ngagel Dadi', 'Waktu Berita': 'Jatim TerkiniJumat, 27 September 2024 – 17:01 WIB', 'Deskripsi Berita': 'Jatim TerkiniJumat, 27 September 2024 – 17:01 WIBTelkom University Sosialisasikan Modul Pengelolaan Sampah Efektif ke Warga Ngagel DadiTelkom University saat menyosialisasikan modul pengelolaan limbah rumah tangga secara efektif kepada warga Ngagel Dadi.', 'Link Gambar': 'https://image.jpnn.com/resize/225x150-80/jatim/news/normal/2024/09/27/telkom-university-saat-menyosialisasikan-modul-pengelolaan-l-wuxq.jpg'}\n"
     ]
    }
   ],
   "source": [
    "# Menampilkan hasil scraping sebelum disimpan\n",
    "print(\"Hasil scraping:\")\n",
    "for item in news_data:\n",
    "    print(item)\n"
   ]
  },
  {
   "cell_type": "code",
   "execution_count": 5,
   "metadata": {},
   "outputs": [
    {
     "name": "stdout",
     "output_type": "stream",
     "text": [
      "Hasil scraping telah disimpan ke berita_jpnn.csv\n"
     ]
    }
   ],
   "source": [
    "# Mengubah data menjadi DataFrame\n",
    "df = pd.DataFrame(news_data)\n",
    "\n",
    "# Menyimpan DataFrame ke file CSV\n",
    "csv_filename = 'berita_jpnn.csv'\n",
    "df.to_csv(csv_filename, index=False, encoding='utf-8-sig')\n",
    "\n",
    "print(f\"Hasil scraping telah disimpan ke {csv_filename}\")\n"
   ]
  },
  {
   "cell_type": "code",
   "execution_count": 9,
   "metadata": {},
   "outputs": [
    {
     "name": "stdout",
     "output_type": "stream",
     "text": [
      "                                         Nama Berita  \\\n",
      "0  Ketua Bawaslu Surabaya Sangkal Lakukan Pengani...   \n",
      "1  PT PP Optimistis Selesaikan Proyek Bandara Nus...   \n",
      "2  Cuaca Malang Hari ini, Seharian Bakal Cerah Hi...   \n",
      "3  Jadwal Bioskop di Bali Sabtu (28/9): Denpasar ...   \n",
      "4  Ditarik Ajudan Nana Sudjana, Wartawan Terjengk...   \n",
      "\n",
      "                                        Waktu Berita  \\\n",
      "0  Jatim TerkiniSabtu, 28 September 2024 – 10:35 WIB   \n",
      "1  Kaltim TerkiniSabtu, 28 September 2024 – 10:09...   \n",
      "2  Jatim TerkiniSabtu, 28 September 2024 – 10:05 WIB   \n",
      "3      DestinasiSabtu, 28 September 2024 – 09:53 WIB   \n",
      "4  Jateng TerkiniSabtu, 28 September 2024 – 09:40...   \n",
      "\n",
      "                                    Deskripsi Berita  \\\n",
      "0  Jatim TerkiniSabtu, 28 September 2024 – 10:35 ...   \n",
      "1  Kaltim TerkiniSabtu, 28 September 2024 – 10:09...   \n",
      "2  Jatim TerkiniSabtu, 28 September 2024 – 10:05 ...   \n",
      "3  DestinasiSabtu, 28 September 2024 – 09:53 WIBJ...   \n",
      "4  Jateng TerkiniSabtu, 28 September 2024 – 09:40...   \n",
      "\n",
      "                                         Link Gambar  \n",
      "0  https://image.jpnn.com/resize/225x150-80/jatim...  \n",
      "1  https://image.jpnn.com/resize/225x150-80/kalti...  \n",
      "2  https://image.jpnn.com/resize/225x150-80/jatim...  \n",
      "3  https://image.jpnn.com/resize/225x150-80/bali/...  \n",
      "4  https://image.jpnn.com/resize/225x150-80/jatim...  \n"
     ]
    }
   ],
   "source": [
    "filenya = pd.read_csv('berita_jpnn.csv')\n",
    "print(filenya.head())"
   ]
  }
 ],
 "metadata": {
  "kernelspec": {
   "display_name": "Python 3",
   "language": "python",
   "name": "python3"
  },
  "language_info": {
   "codemirror_mode": {
    "name": "ipython",
    "version": 3
   },
   "file_extension": ".py",
   "mimetype": "text/x-python",
   "name": "python",
   "nbconvert_exporter": "python",
   "pygments_lexer": "ipython3",
   "version": "3.12.1"
  }
 },
 "nbformat": 4,
 "nbformat_minor": 2
}
